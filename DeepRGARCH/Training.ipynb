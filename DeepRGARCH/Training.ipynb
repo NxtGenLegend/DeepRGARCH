{
 "cells": [
  {
   "cell_type": "code",
   "execution_count": 1,
   "id": "1a513f85-5d86-47cc-8edc-0cbe03a086ce",
   "metadata": {},
   "outputs": [
    {
     "ename": "ModuleNotFoundError",
     "evalue": "No module named 'DeepRGARCH'",
     "output_type": "error",
     "traceback": [
      "\u001b[0;31m---------------------------------------------------------------------------\u001b[0m",
      "\u001b[0;31mModuleNotFoundError\u001b[0m                       Traceback (most recent call last)",
      "Cell \u001b[0;32mIn[1], line 4\u001b[0m\n\u001b[1;32m      2\u001b[0m \u001b[38;5;28;01mimport\u001b[39;00m \u001b[38;5;21;01mpickle\u001b[39;00m\n\u001b[1;32m      3\u001b[0m \u001b[38;5;28;01mfrom\u001b[39;00m \u001b[38;5;21;01mcollections\u001b[39;00m \u001b[38;5;28;01mimport\u001b[39;00m defaultdict\n\u001b[0;32m----> 4\u001b[0m \u001b[38;5;28;01mfrom\u001b[39;00m \u001b[38;5;21;01mDeepRGARCH\u001b[39;00m\u001b[38;5;21;01m.\u001b[39;00m\u001b[38;5;21;01mrerech\u001b[39;00m \u001b[38;5;28;01mimport\u001b[39;00m model \u001b[38;5;28;01mas\u001b[39;00m mdl\n\u001b[1;32m      5\u001b[0m \u001b[38;5;28;01mfrom\u001b[39;00m \u001b[38;5;21;01mrerech\u001b[39;00m \u001b[38;5;28;01mimport\u001b[39;00m utils \u001b[38;5;28;01mas\u001b[39;00m ut\n",
      "\u001b[0;31mModuleNotFoundError\u001b[0m: No module named 'DeepRGARCH'"
     ]
    }
   ],
   "source": [
    "import pandas as pd\n",
    "import pickle\n",
    "from collections import defaultdict\n",
    "from DeepRGARCH.rerech import model as mdl\n",
    "from rerech import utils as ut"
   ]
  },
  {
   "cell_type": "code",
   "execution_count": 3,
   "id": "377e07bd",
   "metadata": {},
   "outputs": [
    {
     "name": "stderr",
     "output_type": "stream",
     "text": [
      "/Users/ananyaparikh/Documents/Coding/DeepRGARCH/DeepRGARCH/rerech/utils.py:50: FutureWarning: ChainedAssignmentError: behaviour will change in pandas 3.0!\n",
      "You are setting values through chained assignment. Currently this works in certain cases, but when using Copy-on-Write (which will become the default behaviour in pandas 3.0) this will never work to update the original DataFrame or Series, because the intermediate object on which we are setting values will behave as a copy.\n",
      "A typical example is when you are setting values in a column of a DataFrame, like:\n",
      "\n",
      "df[\"col\"][row_indexer] = value\n",
      "\n",
      "Use `df.loc[row_indexer, \"col\"] = values` instead, to perform the assignment in a single step and ensure this keeps updating the original `df`.\n",
      "\n",
      "See the caveats in the documentation: https://pandas.pydata.org/pandas-docs/stable/user_guide/indexing.html#returning-a-view-versus-a-copy\n",
      "\n",
      "  df['rv5'][df['rv5']<=0] = df['rv5'][df['rv5']>0].min()\n",
      "/Users/ananyaparikh/Documents/Coding/DeepRGARCH/DeepRGARCH/rerech/utils.py:50: FutureWarning: ChainedAssignmentError: behaviour will change in pandas 3.0!\n",
      "You are setting values through chained assignment. Currently this works in certain cases, but when using Copy-on-Write (which will become the default behaviour in pandas 3.0) this will never work to update the original DataFrame or Series, because the intermediate object on which we are setting values will behave as a copy.\n",
      "A typical example is when you are setting values in a column of a DataFrame, like:\n",
      "\n",
      "df[\"col\"][row_indexer] = value\n",
      "\n",
      "Use `df.loc[row_indexer, \"col\"] = values` instead, to perform the assignment in a single step and ensure this keeps updating the original `df`.\n",
      "\n",
      "See the caveats in the documentation: https://pandas.pydata.org/pandas-docs/stable/user_guide/indexing.html#returning-a-view-versus-a-copy\n",
      "\n",
      "  df['rv5'][df['rv5']<=0] = df['rv5'][df['rv5']>0].min()\n",
      "/Users/ananyaparikh/Documents/Coding/DeepRGARCH/DeepRGARCH/rerech/utils.py:50: FutureWarning: ChainedAssignmentError: behaviour will change in pandas 3.0!\n",
      "You are setting values through chained assignment. Currently this works in certain cases, but when using Copy-on-Write (which will become the default behaviour in pandas 3.0) this will never work to update the original DataFrame or Series, because the intermediate object on which we are setting values will behave as a copy.\n",
      "A typical example is when you are setting values in a column of a DataFrame, like:\n",
      "\n",
      "df[\"col\"][row_indexer] = value\n",
      "\n",
      "Use `df.loc[row_indexer, \"col\"] = values` instead, to perform the assignment in a single step and ensure this keeps updating the original `df`.\n",
      "\n",
      "See the caveats in the documentation: https://pandas.pydata.org/pandas-docs/stable/user_guide/indexing.html#returning-a-view-versus-a-copy\n",
      "\n",
      "  df['rv5'][df['rv5']<=0] = df['rv5'][df['rv5']>0].min()\n",
      "/Users/ananyaparikh/Documents/Coding/DeepRGARCH/DeepRGARCH/rerech/utils.py:50: FutureWarning: ChainedAssignmentError: behaviour will change in pandas 3.0!\n",
      "You are setting values through chained assignment. Currently this works in certain cases, but when using Copy-on-Write (which will become the default behaviour in pandas 3.0) this will never work to update the original DataFrame or Series, because the intermediate object on which we are setting values will behave as a copy.\n",
      "A typical example is when you are setting values in a column of a DataFrame, like:\n",
      "\n",
      "df[\"col\"][row_indexer] = value\n",
      "\n",
      "Use `df.loc[row_indexer, \"col\"] = values` instead, to perform the assignment in a single step and ensure this keeps updating the original `df`.\n",
      "\n",
      "See the caveats in the documentation: https://pandas.pydata.org/pandas-docs/stable/user_guide/indexing.html#returning-a-view-versus-a-copy\n",
      "\n",
      "  df['rv5'][df['rv5']<=0] = df['rv5'][df['rv5']>0].min()\n",
      "/Users/ananyaparikh/Documents/Coding/DeepRGARCH/DeepRGARCH/rerech/utils.py:50: FutureWarning: ChainedAssignmentError: behaviour will change in pandas 3.0!\n",
      "You are setting values through chained assignment. Currently this works in certain cases, but when using Copy-on-Write (which will become the default behaviour in pandas 3.0) this will never work to update the original DataFrame or Series, because the intermediate object on which we are setting values will behave as a copy.\n",
      "A typical example is when you are setting values in a column of a DataFrame, like:\n",
      "\n",
      "df[\"col\"][row_indexer] = value\n",
      "\n",
      "Use `df.loc[row_indexer, \"col\"] = values` instead, to perform the assignment in a single step and ensure this keeps updating the original `df`.\n",
      "\n",
      "See the caveats in the documentation: https://pandas.pydata.org/pandas-docs/stable/user_guide/indexing.html#returning-a-view-versus-a-copy\n",
      "\n",
      "  df['rv5'][df['rv5']<=0] = df['rv5'][df['rv5']>0].min()\n",
      "/Users/ananyaparikh/Documents/Coding/DeepRGARCH/DeepRGARCH/rerech/utils.py:50: FutureWarning: ChainedAssignmentError: behaviour will change in pandas 3.0!\n",
      "You are setting values through chained assignment. Currently this works in certain cases, but when using Copy-on-Write (which will become the default behaviour in pandas 3.0) this will never work to update the original DataFrame or Series, because the intermediate object on which we are setting values will behave as a copy.\n",
      "A typical example is when you are setting values in a column of a DataFrame, like:\n",
      "\n",
      "df[\"col\"][row_indexer] = value\n",
      "\n",
      "Use `df.loc[row_indexer, \"col\"] = values` instead, to perform the assignment in a single step and ensure this keeps updating the original `df`.\n",
      "\n",
      "See the caveats in the documentation: https://pandas.pydata.org/pandas-docs/stable/user_guide/indexing.html#returning-a-view-versus-a-copy\n",
      "\n",
      "  df['rv5'][df['rv5']<=0] = df['rv5'][df['rv5']>0].min()\n",
      "/Users/ananyaparikh/Documents/Coding/DeepRGARCH/DeepRGARCH/rerech/utils.py:50: FutureWarning: ChainedAssignmentError: behaviour will change in pandas 3.0!\n",
      "You are setting values through chained assignment. Currently this works in certain cases, but when using Copy-on-Write (which will become the default behaviour in pandas 3.0) this will never work to update the original DataFrame or Series, because the intermediate object on which we are setting values will behave as a copy.\n",
      "A typical example is when you are setting values in a column of a DataFrame, like:\n",
      "\n",
      "df[\"col\"][row_indexer] = value\n",
      "\n",
      "Use `df.loc[row_indexer, \"col\"] = values` instead, to perform the assignment in a single step and ensure this keeps updating the original `df`.\n",
      "\n",
      "See the caveats in the documentation: https://pandas.pydata.org/pandas-docs/stable/user_guide/indexing.html#returning-a-view-versus-a-copy\n",
      "\n",
      "  df['rv5'][df['rv5']<=0] = df['rv5'][df['rv5']>0].min()\n",
      "/Users/ananyaparikh/Documents/Coding/DeepRGARCH/DeepRGARCH/rerech/utils.py:50: FutureWarning: ChainedAssignmentError: behaviour will change in pandas 3.0!\n",
      "You are setting values through chained assignment. Currently this works in certain cases, but when using Copy-on-Write (which will become the default behaviour in pandas 3.0) this will never work to update the original DataFrame or Series, because the intermediate object on which we are setting values will behave as a copy.\n",
      "A typical example is when you are setting values in a column of a DataFrame, like:\n",
      "\n",
      "df[\"col\"][row_indexer] = value\n",
      "\n",
      "Use `df.loc[row_indexer, \"col\"] = values` instead, to perform the assignment in a single step and ensure this keeps updating the original `df`.\n",
      "\n",
      "See the caveats in the documentation: https://pandas.pydata.org/pandas-docs/stable/user_guide/indexing.html#returning-a-view-versus-a-copy\n",
      "\n",
      "  df['rv5'][df['rv5']<=0] = df['rv5'][df['rv5']>0].min()\n",
      "/Users/ananyaparikh/Documents/Coding/DeepRGARCH/DeepRGARCH/rerech/utils.py:50: FutureWarning: ChainedAssignmentError: behaviour will change in pandas 3.0!\n",
      "You are setting values through chained assignment. Currently this works in certain cases, but when using Copy-on-Write (which will become the default behaviour in pandas 3.0) this will never work to update the original DataFrame or Series, because the intermediate object on which we are setting values will behave as a copy.\n",
      "A typical example is when you are setting values in a column of a DataFrame, like:\n",
      "\n",
      "df[\"col\"][row_indexer] = value\n",
      "\n",
      "Use `df.loc[row_indexer, \"col\"] = values` instead, to perform the assignment in a single step and ensure this keeps updating the original `df`.\n",
      "\n",
      "See the caveats in the documentation: https://pandas.pydata.org/pandas-docs/stable/user_guide/indexing.html#returning-a-view-versus-a-copy\n",
      "\n",
      "  df['rv5'][df['rv5']<=0] = df['rv5'][df['rv5']>0].min()\n",
      "/Users/ananyaparikh/Documents/Coding/DeepRGARCH/DeepRGARCH/rerech/utils.py:50: FutureWarning: ChainedAssignmentError: behaviour will change in pandas 3.0!\n",
      "You are setting values through chained assignment. Currently this works in certain cases, but when using Copy-on-Write (which will become the default behaviour in pandas 3.0) this will never work to update the original DataFrame or Series, because the intermediate object on which we are setting values will behave as a copy.\n",
      "A typical example is when you are setting values in a column of a DataFrame, like:\n",
      "\n",
      "df[\"col\"][row_indexer] = value\n",
      "\n",
      "Use `df.loc[row_indexer, \"col\"] = values` instead, to perform the assignment in a single step and ensure this keeps updating the original `df`.\n",
      "\n",
      "See the caveats in the documentation: https://pandas.pydata.org/pandas-docs/stable/user_guide/indexing.html#returning-a-view-versus-a-copy\n",
      "\n",
      "  df['rv5'][df['rv5']<=0] = df['rv5'][df['rv5']>0].min()\n"
     ]
    }
   ],
   "source": [
    "data_dict = ut.build_data_dict(ut.load_rv(filepath='/Users/ananyaparikh/Documents/Coding/DeepRGARCH/code submission/data/rv.pkl'))\n",
    "tickers = list(data_dict.keys())\n",
    "model_dict = defaultdict(lambda: {})"
   ]
  },
  {
   "cell_type": "code",
   "execution_count": 4,
   "id": "b59569d7-7321-4434-a9b4-12a4950067c9",
   "metadata": {
    "tags": []
   },
   "outputs": [
    {
     "name": "stderr",
     "output_type": "stream",
     "text": [
      "/Users/ananyaparikh/Documents/Coding/DeepRGARCH/DeepRGARCH/rerech/model.py:20: RuntimeWarning: overflow encountered in multiply\n",
      "  var[n+1] = theta['omega'] + theta['alpha'] * np.square(self.Y[n]) + theta['beta'] * var[n]\n",
      "/Users/ananyaparikh/Documents/Coding/DeepRGARCH/DeepRGARCH/rerech/model.py:21: RuntimeWarning: invalid value encountered in sqrt\n",
      "  llik = np.sum(stats.norm.logpdf(self.Y[1:], loc=0, scale = np.sqrt(var[1:])), axis=0) #y0, var0 is excluded, end with yt, vart\n",
      "/Users/ananyaparikh/Documents/Coding/DeepRGARCH/DeepRGARCH/rerech/model.py:44: RuntimeWarning: invalid value encountered in sqrt\n",
      "  llik = np.sum(stats.norm.logpdf(Y, loc=0, scale = np.sqrt(var)), axis=0)\n"
     ]
    },
    {
     "ename": "NameError",
     "evalue": "name 'n' is not defined",
     "output_type": "error",
     "traceback": [
      "\u001b[0;31m---------------------------------------------------------------------------\u001b[0m",
      "\u001b[0;31mNameError\u001b[0m                                 Traceback (most recent call last)",
      "Cell \u001b[0;32mIn[4], line 9\u001b[0m\n\u001b[1;32m      7\u001b[0m model_dict[ticker][\u001b[38;5;124m'\u001b[39m\u001b[38;5;124mgarch\u001b[39m\u001b[38;5;124m'\u001b[39m] \u001b[38;5;241m=\u001b[39m mdl\u001b[38;5;241m.\u001b[39mGARCHD(pre\u001b[38;5;241m=\u001b[39mgarch, data\u001b[38;5;241m=\u001b[39m[y_train, y_test])\n\u001b[1;32m      8\u001b[0m model_dict[ticker][\u001b[38;5;124m'\u001b[39m\u001b[38;5;124mgarch\u001b[39m\u001b[38;5;124m'\u001b[39m]\u001b[38;5;241m.\u001b[39mrun() \n\u001b[0;32m----> 9\u001b[0m \u001b[38;5;28;01mwith\u001b[39;00m \u001b[38;5;28mopen\u001b[39m(\u001b[38;5;124m'\u001b[39m\u001b[38;5;124mcheckpoint/\u001b[39m\u001b[38;5;132;01m{}\u001b[39;00m\u001b[38;5;124m_\u001b[39m\u001b[38;5;132;01m{}\u001b[39;00m\u001b[38;5;124m_\u001b[39m\u001b[38;5;132;01m{}\u001b[39;00m\u001b[38;5;124m.pkl\u001b[39m\u001b[38;5;124m'\u001b[39m\u001b[38;5;241m.\u001b[39mformat(ticker, \u001b[38;5;124m'\u001b[39m\u001b[38;5;124mgarch\u001b[39m\u001b[38;5;124m'\u001b[39m, \u001b[43mn\u001b[49m), \u001b[38;5;124m'\u001b[39m\u001b[38;5;124mwb\u001b[39m\u001b[38;5;124m'\u001b[39m) \u001b[38;5;28;01mas\u001b[39;00m f:\n\u001b[1;32m     10\u001b[0m     pickle\u001b[38;5;241m.\u001b[39mdump(model_dict[ticker][\u001b[38;5;124m'\u001b[39m\u001b[38;5;124mgarch\u001b[39m\u001b[38;5;124m'\u001b[39m], f)\n\u001b[1;32m     12\u001b[0m rech \u001b[38;5;241m=\u001b[39m mdl\u001b[38;5;241m.\u001b[39mRECH(prior\u001b[38;5;241m=\u001b[39mut\u001b[38;5;241m.\u001b[39mrech_prior,data\u001b[38;5;241m=\u001b[39my_train)\n",
      "\u001b[0;31mNameError\u001b[0m: name 'n' is not defined"
     ]
    }
   ],
   "source": [
    "for ticker in tickers:\n",
    "    data = data_dict[ticker]['train']\n",
    "    y_train, y_test, rv_train, rv_test = data['y_train'], data['y_test'], data['rv_train'], data['rv_test']\n",
    "    \n",
    "    garch = mdl.GARCH(prior=ut.garch_prior,cstr_fn=ut.garch_cstr_fn,data=y_train)\n",
    "    garch.run()\n",
    "    model_dict[ticker]['garch'] = mdl.GARCHD(pre=garch, data=[y_train, y_test])\n",
    "    model_dict[ticker]['garch'].run() \n",
    "    with open('checkpoint/{}_{}_{}.pkl'.format(ticker, 'garch', n), 'wb') as f:\n",
    "        pickle.dump(model_dict[ticker]['garch'], f)\n",
    "\n",
    "    rech = mdl.RECH(prior=ut.rech_prior,data=y_train)\n",
    "    rech.run() \n",
    "    model_dict[ticker]['rech'] = mdl.RECHD(pre=rech, data=[y_train, y_test])\n",
    "    model_dict[ticker]['rech'].run()\n",
    "    with open('checkpoint/{}_{}_{}.pkl'.format(ticker, 'rech', n), 'wb') as f:\n",
    "        pickle.dump(model_dict[ticker]['rech'], f)\n",
    "    \n",
    "    realgarch = mdl.RealGARCH(prior=ut.realgarch_prior,data=[y_train, rv_train])\n",
    "    realgarch.run()\n",
    "    model_dict[ticker]['realgarch'] = mdl.RealGARCHD(pre=realgarch, data=[y_train, y_test, rv_train, rv_test])\n",
    "    model_dict[ticker]['realgarch'].run()\n",
    "    with open('checkpoint/{}_{}_{}.pkl'.format(ticker, 'realgarch', n), 'wb') as f:\n",
    "        pickle.dump(model_dict[ticker]['realgarch'], f)\n",
    "\n",
    "    realrech = mdl.RealRECH(prior=ut.realrech_prior,data=[y_train, rv_train])\n",
    "    realrech.run()\n",
    "    model_dict[ticker]['realrech'] = mdl.RealRECHD(pre=realrech, data=[y_train, y_test, rv_train, rv_test])\n",
    "    model_dict[ticker]['realrech'].run()\n",
    "    with open('checkpoint/{}_{}_{}.pkl'.format(ticker, 'realrech', n), 'wb') as f:\n",
    "        pickle.dump(model_dict[ticker]['realrech'], f)"
   ]
  }
 ],
 "metadata": {
  "kernelspec": {
   "display_name": "Python 3 (ipykernel)",
   "language": "python",
   "name": "python3"
  },
  "language_info": {
   "codemirror_mode": {
    "name": "ipython",
    "version": 3
   },
   "file_extension": ".py",
   "mimetype": "text/x-python",
   "name": "python",
   "nbconvert_exporter": "python",
   "pygments_lexer": "ipython3",
   "version": "3.12.1"
  },
  "toc-autonumbering": true,
  "toc-showcode": false,
  "toc-showmarkdowntxt": true,
  "toc-showtags": false,
  "vscode": {
   "interpreter": {
    "hash": "fbbf4e6be739f69ebade9b0f82750b4a11dc83ca8532af5432d75d74b653e797"
   }
  }
 },
 "nbformat": 4,
 "nbformat_minor": 5
}

{
 "cells": [
  {
   "cell_type": "code",
   "execution_count": 17,
   "id": "1a513f85-5d86-47cc-8edc-0cbe03a086ce",
   "metadata": {},
   "outputs": [],
   "source": [
    "import pandas as pd\n",
    "import pickle\n",
    "from collections import defaultdict\n",
    "from rerech import model as mdl, utils as ut"
   ]
  },
  {
   "cell_type": "code",
   "execution_count": 18,
   "id": "377e07bd",
   "metadata": {},
   "outputs": [],
   "source": [
    "data_dict = ut.build_data_dict(ut.load_rv(filepath='data/rv.pkl'))\n",
    "tickers = list(data_dict.keys())\n",
    "model_dict = defaultdict(lambda: {})"
   ]
  },
  {
   "cell_type": "code",
   "execution_count": null,
   "id": "b59569d7-7321-4434-a9b4-12a4950067c9",
   "metadata": {
    "tags": []
   },
   "outputs": [],
   "source": [
    "for ticker in tickers:\n",
    "    data = data_dict[ticker]['train']\n",
    "    y_train, y_test, rv_train, rv_test = data['y_train'], data['y_test'], data['rv_train'], data['rv_test']\n",
    "    \n",
    "    garch = mdl.GARCH(prior=ut.garch_prior,cstr_fn=ut.garch_cstr_fn,data=y_train)\n",
    "    garch.run()\n",
    "    model_dict[ticker]['garch'] = mdl.GARCHD(pre=garch, data=[y_train, y_test])\n",
    "    model_dict[ticker]['garch'].run() \n",
    "    with open('checkpoint/{}_{}_{}.pkl'.format(ticker, 'garch', n), 'wb') as f:\n",
    "        pickle.dump(model_dict[ticker]['garch'], f)\n",
    "\n",
    "    rech = mdl.RECH(prior=ut.rech_prior,data=y_train)\n",
    "    rech.run() \n",
    "    model_dict[ticker]['rech'] = mdl.RECHD(pre=rech, data=[y_train, y_test])\n",
    "    model_dict[ticker]['rech'].run()\n",
    "    with open('checkpoint/{}_{}_{}.pkl'.format(ticker, 'rech', n), 'wb') as f:\n",
    "        pickle.dump(model_dict[ticker]['rech'], f)\n",
    "    \n",
    "    realgarch = mdl.RealGARCH(prior=ut.realgarch_prior,data=[y_train, rv_train])\n",
    "    realgarch.run()\n",
    "    model_dict[ticker]['realgarch'] = mdl.RealGARCHD(pre=realgarch, data=[y_train, y_test, rv_train, rv_test])\n",
    "    model_dict[ticker]['realgarch'].run()\n",
    "    with open('checkpoint/{}_{}_{}.pkl'.format(ticker, 'realgarch', n), 'wb') as f:\n",
    "        pickle.dump(model_dict[ticker]['realgarch'], f)\n",
    "\n",
    "    realrech = mdl.RealRECH(prior=ut.realrech_prior,data=[y_train, rv_train])\n",
    "    realrech.run()\n",
    "    model_dict[ticker]['realrech'] = mdl.RealRECHD(pre=realrech, data=[y_train, y_test, rv_train, rv_test])\n",
    "    model_dict[ticker]['realrech'].run()\n",
    "    with open('checkpoint/{}_{}_{}.pkl'.format(ticker, 'realrech', n), 'wb') as f:\n",
    "        pickle.dump(model_dict[ticker]['realrech'], f)"
   ]
  }
 ],
 "metadata": {
  "kernelspec": {
   "display_name": "Python 3 (ipykernel)",
   "language": "python",
   "name": "python3"
  },
  "language_info": {
   "codemirror_mode": {
    "name": "ipython",
    "version": 3
   },
   "file_extension": ".py",
   "mimetype": "text/x-python",
   "name": "python",
   "nbconvert_exporter": "python",
   "pygments_lexer": "ipython3",
   "version": "3.10.9"
  },
  "toc-autonumbering": true,
  "toc-showcode": false,
  "toc-showmarkdowntxt": true,
  "toc-showtags": false,
  "vscode": {
   "interpreter": {
    "hash": "fbbf4e6be739f69ebade9b0f82750b4a11dc83ca8532af5432d75d74b653e797"
   }
  }
 },
 "nbformat": 4,
 "nbformat_minor": 5
}

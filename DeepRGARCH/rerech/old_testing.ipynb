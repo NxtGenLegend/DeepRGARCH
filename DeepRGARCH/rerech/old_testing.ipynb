{
 "cells": [
  {
   "cell_type": "code",
   "execution_count": 16,
   "metadata": {},
   "outputs": [],
   "source": [
    "import pandas as pd\n",
    "import yfinance as yf\n",
    "import sys\n",
    "import os\n",
    "sys.path.append(os.path.abspath(\"/Users/ananyaparikh/Documents/Coding/DeepRGARCH/DeepRGARCH\"))\n",
    "from utils import load_rv\n",
    "# Load RV5 panel data from .pkl (AEX stocks usually)\n",
    "rv_data = '/Users/ananyaparikh/Documents/Coding/DeepRGARCH/code submission/data/rv.pkl'\n",
    "\n",
    "# Define stock split event (manual for now)\n",
    "split_event = {\n",
    "    'ticker': 'TSLA',\n",
    "    'announcement': '2020-08-11',\n",
    "    'effective': '2020-08-31',\n",
    "    'ratio': '5-for-1'\n",
    "}\n"
   ]
  },
  {
   "cell_type": "code",
   "execution_count": 17,
   "metadata": {},
   "outputs": [],
   "source": [
    "# Add parent directory (the one containing 'rerech') to sys.path\n",
    "sys.path.append(os.path.abspath(\"/Users/ananyaparikh/Documents/Coding/DeepRGARCH/DeepRGARCH\"))\n",
    "from DeepRGARCH.rerech.model import RealRECHD_2LSTM\n",
    "from rerech import smc\n",
    "from utils import realrech_prior, realrech_cstr_fn, load_rv\n",
    "\n",
    "\n",
    "def run_split_model(rv_data, split_event):\n",
    "    dataset = get_split_dataset(rv_data, split_event['ticker'], split_event['effective'])\n",
    "\n",
    "    model = RealRECHD_2LSTM(data=(dataset['y_train'], dataset['y_test'], dataset['rv_train'], dataset['rv_test']))\n",
    "    smc_obj = smc.SMCD(prior=realrech_2lstm_prior, cstr=realrech_cstr_fn, model=model)\n",
    "    smc_obj.run()\n",
    "\n",
    "    return smc_obj, dataset\n"
   ]
  },
  {
   "cell_type": "code",
   "execution_count": 20,
   "metadata": {},
   "outputs": [],
   "source": [
    "def get_split_dataset(rv_data, ticker, effective_date):\n",
    "    # Pull OHLCV data\n",
    "    df_yf = yf.download(ticker, start=\"2018-01-01\", end=\"2022-01-01\")\n",
    "    # Instead of checking for 'Adj Close'\n",
    "    # Replace this block:\n",
    "    if 'Adj Close' not in df_yf.columns:\n",
    "        print(df_yf.head())\n",
    "        raise ValueError(\"Downloaded data does not contain 'Adj Close'. Check ticker or date range.\")\n",
    "\n",
    "    # Do this instead:\n",
    "    df_yf.columns = df_yf.columns.get_level_values(0)  # Flatten MultiIndex\n",
    "    df_yf = df_yf[['Close']].rename(columns={'Close': 'close_price'})  # Use 'Close' column\n",
    "\n",
    "    # Subset RV5 data for AEX (we’ll match dates only)\n",
    "    rv_df = rv_data.xs('AEX', level=0).copy()\n",
    "    matched_df = rv_df[['rv5']].copy()\n",
    "    matched_df['close_price'] = df_yf['close_price']\n",
    "    matched_df.dropna(inplace=True)  # Keep only common dates\n",
    "\n",
    "    return get_dataset(matched_df)\n"
   ]
  },
  {
   "cell_type": "code",
   "execution_count": 21,
   "metadata": {},
   "outputs": [
    {
     "name": "stderr",
     "output_type": "stream",
     "text": [
      "[*********************100%***********************]  1 of 1 completed"
     ]
    },
    {
     "name": "stdout",
     "output_type": "stream",
     "text": [
      "Price           Close       High        Low       Open     Volume\n",
      "Ticker           TSLA       TSLA       TSLA       TSLA       TSLA\n",
      "Date                                                             \n",
      "2018-01-02  21.368668  21.474001  20.733334  20.799999   65283000\n",
      "2018-01-03  21.150000  21.683332  21.036667  21.400000   67822500\n",
      "2018-01-04  20.974667  21.236668  20.378668  20.858000  149194500\n",
      "2018-01-05  21.105333  21.149332  20.799999  21.108000   68868000\n",
      "2018-01-08  22.427334  22.468000  21.033333  21.066668  147891000\n"
     ]
    },
    {
     "name": "stderr",
     "output_type": "stream",
     "text": [
      "\n"
     ]
    },
    {
     "ename": "ValueError",
     "evalue": "Downloaded data does not contain 'Adj Close'. Check ticker or date range.",
     "output_type": "error",
     "traceback": [
      "\u001b[0;31m---------------------------------------------------------------------------\u001b[0m",
      "\u001b[0;31mValueError\u001b[0m                                Traceback (most recent call last)",
      "Cell \u001b[0;32mIn[21], line 1\u001b[0m\n\u001b[0;32m----> 1\u001b[0m smc_obj, dataset \u001b[38;5;241m=\u001b[39m \u001b[43mrun_split_model\u001b[49m\u001b[43m(\u001b[49m\u001b[43mrv_data\u001b[49m\u001b[43m,\u001b[49m\u001b[43m \u001b[49m\u001b[43msplit_event\u001b[49m\u001b[43m)\u001b[49m\n",
      "Cell \u001b[0;32mIn[17], line 9\u001b[0m, in \u001b[0;36mrun_split_model\u001b[0;34m(rv_data, split_event)\u001b[0m\n\u001b[1;32m      8\u001b[0m \u001b[38;5;28;01mdef\u001b[39;00m \u001b[38;5;21mrun_split_model\u001b[39m(rv_data, split_event):\n\u001b[0;32m----> 9\u001b[0m     dataset \u001b[38;5;241m=\u001b[39m \u001b[43mget_split_dataset\u001b[49m\u001b[43m(\u001b[49m\u001b[43mrv_data\u001b[49m\u001b[43m,\u001b[49m\u001b[43m \u001b[49m\u001b[43msplit_event\u001b[49m\u001b[43m[\u001b[49m\u001b[38;5;124;43m'\u001b[39;49m\u001b[38;5;124;43mticker\u001b[39;49m\u001b[38;5;124;43m'\u001b[39;49m\u001b[43m]\u001b[49m\u001b[43m,\u001b[49m\u001b[43m \u001b[49m\u001b[43msplit_event\u001b[49m\u001b[43m[\u001b[49m\u001b[38;5;124;43m'\u001b[39;49m\u001b[38;5;124;43meffective\u001b[39;49m\u001b[38;5;124;43m'\u001b[39;49m\u001b[43m]\u001b[49m\u001b[43m)\u001b[49m\n\u001b[1;32m     11\u001b[0m     model \u001b[38;5;241m=\u001b[39m RealRECHD_2LSTM(data\u001b[38;5;241m=\u001b[39m(dataset[\u001b[38;5;124m'\u001b[39m\u001b[38;5;124my_train\u001b[39m\u001b[38;5;124m'\u001b[39m], dataset[\u001b[38;5;124m'\u001b[39m\u001b[38;5;124my_test\u001b[39m\u001b[38;5;124m'\u001b[39m], dataset[\u001b[38;5;124m'\u001b[39m\u001b[38;5;124mrv_train\u001b[39m\u001b[38;5;124m'\u001b[39m], dataset[\u001b[38;5;124m'\u001b[39m\u001b[38;5;124mrv_test\u001b[39m\u001b[38;5;124m'\u001b[39m]))\n\u001b[1;32m     12\u001b[0m     smc_obj \u001b[38;5;241m=\u001b[39m smc\u001b[38;5;241m.\u001b[39mSMCD(prior\u001b[38;5;241m=\u001b[39mrealrech_2lstm_prior, cstr\u001b[38;5;241m=\u001b[39mrealrech_cstr_fn, model\u001b[38;5;241m=\u001b[39mmodel)\n",
      "Cell \u001b[0;32mIn[20], line 8\u001b[0m, in \u001b[0;36mget_split_dataset\u001b[0;34m(rv_data, ticker, effective_date)\u001b[0m\n\u001b[1;32m      6\u001b[0m \u001b[38;5;28;01mif\u001b[39;00m \u001b[38;5;124m'\u001b[39m\u001b[38;5;124mAdj Close\u001b[39m\u001b[38;5;124m'\u001b[39m \u001b[38;5;129;01mnot\u001b[39;00m \u001b[38;5;129;01min\u001b[39;00m df_yf\u001b[38;5;241m.\u001b[39mcolumns:\n\u001b[1;32m      7\u001b[0m     \u001b[38;5;28mprint\u001b[39m(df_yf\u001b[38;5;241m.\u001b[39mhead())\n\u001b[0;32m----> 8\u001b[0m     \u001b[38;5;28;01mraise\u001b[39;00m \u001b[38;5;167;01mValueError\u001b[39;00m(\u001b[38;5;124m\"\u001b[39m\u001b[38;5;124mDownloaded data does not contain \u001b[39m\u001b[38;5;124m'\u001b[39m\u001b[38;5;124mAdj Close\u001b[39m\u001b[38;5;124m'\u001b[39m\u001b[38;5;124m. Check ticker or date range.\u001b[39m\u001b[38;5;124m\"\u001b[39m)\n\u001b[1;32m     10\u001b[0m \u001b[38;5;66;03m# Do this instead:\u001b[39;00m\n\u001b[1;32m     11\u001b[0m df_yf\u001b[38;5;241m.\u001b[39mcolumns \u001b[38;5;241m=\u001b[39m df_yf\u001b[38;5;241m.\u001b[39mcolumns\u001b[38;5;241m.\u001b[39mget_level_values(\u001b[38;5;241m0\u001b[39m)  \u001b[38;5;66;03m# Flatten MultiIndex\u001b[39;00m\n",
      "\u001b[0;31mValueError\u001b[0m: Downloaded data does not contain 'Adj Close'. Check ticker or date range."
     ]
    }
   ],
   "source": [
    "smc_obj, dataset = run_split_model(rv_data, split_event)"
   ]
  }
 ],
 "metadata": {
  "kernelspec": {
   "display_name": "Python 3",
   "language": "python",
   "name": "python3"
  },
  "language_info": {
   "codemirror_mode": {
    "name": "ipython",
    "version": 3
   },
   "file_extension": ".py",
   "mimetype": "text/x-python",
   "name": "python",
   "nbconvert_exporter": "python",
   "pygments_lexer": "ipython3",
   "version": "3.12.1"
  }
 },
 "nbformat": 4,
 "nbformat_minor": 2
}

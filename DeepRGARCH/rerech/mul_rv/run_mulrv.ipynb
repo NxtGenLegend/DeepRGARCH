{
 "cells": [
  {
   "cell_type": "code",
   "execution_count": null,
   "metadata": {},
   "outputs": [],
   "source": [
    "import pandas as pd\n",
    "import numpy as np\n",
    "\n",
    "# --- Paths -----------------------------------------------------------------\n",
    "DATA_FILE = \"/Users/ananyaparikh/Documents/Coding/DeepRGARCH/code submission/data/rv.pkl\"          # <-- change if your file lives elsewhere\n",
    "TICKER    = \".AEX\"                  # one of the panel tickers\n",
    "\n",
    "# --- Load data -------------------------------------------------------------\n",
    "print(\"loading\", DATA_FILE)\n",
    "df_panel = pd.read_pickle(DATA_FILE)\n",
    "df_panel.index = df_panel.index.set_levels(\n",
    "    pd.to_datetime(df_panel.index.levels[-1], utc=True).tz_localize(None),\n",
    "    level=-1)\n",
    "\n",
    "print(df_panel)\n",
    "\n",
    "# grab one ticker and rename realised‑meas columns --------------------------\n",
    "cols_rv = [\"rv5\", \"bv\", \"medrv\", \"rk_parzen\", \"rsv\"]\n",
    "df      = df_panel.loc[TICKER, cols_rv + [\"close_price\"]].copy()"
   ]
  },
  {
   "cell_type": "code",
   "execution_count": null,
   "metadata": {},
   "outputs": [],
   "source": [
    "from mulrv import RealRECHD_2LSTM, RealRECH_2LSTM \n",
    "from pathlib import Path\n",
    "\n",
    "def get_dataset(filepath: str, ticker: str = \"SPX\", rv_cols=None, *,\n",
    "                split=0.5):\n",
    "    \"\"\"Load *rv.pkl* from Oxford‑Man realised library and return\n",
    "    (Y_train, Y_test, RV_train, RV_test) where\n",
    "        • Y   = 100·demeaned log‑returns (T, 1)\n",
    "        • RV  = selected realised vols, scaled to returns variance  (T, K)\n",
    "    Only the requested *ticker* slice is used.  The boolean *split*\n",
    "    controls the train/test percentage.\n",
    "    \"\"\"\n",
    "    rv_cols = rv_cols or ['rv5', 'bv', 'medrv', 'rk_parzen', 'rsv']\n",
    "\n",
    "    df = pd.read_pickle(filepath)\n",
    "    df.index = df.index.set_levels(\n",
    "        pd.to_datetime(df.index.levels[-1], utc=True).tz_localize(None),\n",
    "        level=-1,\n",
    "    )\n",
    "    s = df.loc[ticker].copy()\n",
    "\n",
    "    # returns -------------------------------------------------------\n",
    "    s['return'] = np.log(s['close_price']).diff()\n",
    "    s.dropna(subset=['return'], inplace=True)\n",
    "    s['return'] = 100 * (s['return'] - s['return'].mean())\n",
    "\n",
    "    # realised vols -------------------------------------------------\n",
    "    K = len(rv_cols)\n",
    "    c_scale = (s['return']**2).mean() / s[rv_cols].mean()\n",
    "    s[rv_cols] *= c_scale\n",
    "\n",
    "    # split ---------------------------------------------------------\n",
    "    n_train = int(len(s) * split)\n",
    "    train, test = s.iloc[:n_train], s.iloc[n_train:]\n",
    "\n",
    "    def _to_np(dd, cols):\n",
    "        arr = dd[cols].to_numpy()\n",
    "        return arr.reshape(-1, 1) if arr.ndim == 1 else arr\n",
    "\n",
    "    return (\n",
    "        _to_np(train, 'return'),\n",
    "        _to_np(test,  'return'),\n",
    "        _to_np(train, rv_cols),\n",
    "        _to_np(test,  rv_cols),\n",
    "    )\n"
   ]
  }
 ],
 "metadata": {
  "kernelspec": {
   "display_name": "Python 3",
   "language": "python",
   "name": "python3"
  },
  "language_info": {
   "codemirror_mode": {
    "name": "ipython",
    "version": 3
   },
   "file_extension": ".py",
   "mimetype": "text/x-python",
   "name": "python",
   "nbconvert_exporter": "python",
   "pygments_lexer": "ipython3",
   "version": "3.12.1"
  }
 },
 "nbformat": 4,
 "nbformat_minor": 2
}
